{
 "cells": [
  {
   "cell_type": "markdown",
   "metadata": {},
   "source": [
    "# Example of how to use the capacity code"
   ]
  },
  {
   "cell_type": "markdown",
   "metadata": {},
   "source": [
    "This notebook demonstrates how to use the capacity tool with standard settings."
   ]
  },
  {
   "cell_type": "code",
   "metadata": {
    "ExecuteTime": {
     "end_time": "2025-02-27T12:44:46.314946Z",
     "start_time": "2025-02-27T12:44:40.320229Z"
    }
   },
   "source": [
    "import numpy as np\n",
    "import matplotlib.pyplot as plt\n",
    "\n",
    "import numpy.linalg as alg\n",
    "from sklearn.decomposition import PCA\n",
    "\n",
    "import esn as ESN\n",
    "import capacities as CAP\n",
    "\n",
    "ESN.test_loading()\n",
    "CAP.test_loading()\n",
    "\n",
    "\n",
    "%matplotlib notebook\n",
    "%matplotlib inline\n",
    "\n",
    "# Helper function to use the capacities data structure coming out of the iterator\n",
    "# cap2vec collates all capacities with same maximal delay and degree up to given maximal values\n",
    "def cap2vec(capacities,maxdel=1000,maxdeg=10):\n",
    "    vec = np.zeros((maxdel,maxdeg))\n",
    "    for idx in range(len(capacities)):\n",
    "        delay=capacities[idx]['delay']\n",
    "        degree=capacities[idx]['degree']\n",
    "        if (delay<=maxdel) and (degree<=maxdeg):\n",
    "            vec[delay-1,degree-1]+=capacities[idx]['score']\n",
    "    return vec\n",
    "    "
   ],
   "outputs": [
    {
     "name": "stdout",
     "output_type": "stream",
     "text": [
      "ESN library loaded\n",
      "Capacity library loaded\n"
     ]
    }
   ],
   "execution_count": 1
  },
  {
   "cell_type": "code",
   "execution_count": 25,
   "metadata": {},
   "outputs": [
    {
     "name": "stdout",
     "output_type": "stream",
     "text": [
      "Estimated rank of state covariance matrix =  48\n",
      "Total score for degree  1  =  47.996608805916175 (cumulative total =  47.996608805916175 )\n",
      "Total score for degree  2  =  0.0 (cumulative total =  47.996608805916175 )\n",
      "Total score for degree  3  =  0.0 (cumulative total =  47.996608805916175 )\n",
      "Total capacity=47.997 (48.00 percent)\n",
      "\n",
      "Measured  124  capacities above threshold.\n",
      "Total capacity =  47.996608805916175\n"
     ]
    }
   ],
   "source": [
    "# test with ESN (see ESN code for details) - in this case a small one with only 20 nodes\n",
    "# Note: if you want to get to 'full capacity', steps must be set to very high values\n",
    "# Also, the sum sometimes overshoots in non-linear systems \n",
    "# due to accumulated numerical errors (huge number of very small capacities)\n",
    "# because the statistical threshold is not an exact bound\n",
    "\n",
    "\n",
    "# Set reservoir params: nodes, input scaling, bias scaling, spectral radius\n",
    "nodes = 100\n",
    "IS = 0.001\n",
    "BS = 0.0\n",
    "specrad = 0.95\n",
    "\n",
    "# Number of time steps: you can use 1e5 for quick-and-dirty, but I used 1e6 in the paper\n",
    "steps = 1000000\n",
    "warmup_drop = 500\n",
    "samples = steps + warmup_drop\n",
    "\n",
    "# Important: capacity theory with Legendre polynomials assumes uniform random inputs in [-1,1]\n",
    "inputs = 2.0*np.random.rand(samples,1)-1.0\n",
    "\n",
    "# in this example: use uniformly distributed, fully connected weight matrices\n",
    "I2R = ESN.CM_Initialise_Normal(1,nodes,scale = IS)\n",
    "B2R = ESN.CM_Initialise_Normal(1,nodes,scale = BS)\n",
    "R2R = ESN.CM_Initialise_Normal(nodes,nodes,scale = 1.0)\n",
    "R2R = ESN.CM_scale_specrad(R2R,specrad)\n",
    "\n",
    "# Initialise and run reservoir on inputs\n",
    "Res = ESN.ESN(I2R = I2R, B2R = B2R, R2R = R2R)#, nonlinearity = ESN.Lin)\n",
    "states = Res.Batch(inputs)\n",
    "\n",
    "# Measure capacities on inputs and states after removing a \"warmup period\"\n",
    "# If you require more extensive printed output of individual capacities:\n",
    "# set verbose = 1\n",
    "Citer=CAP.capacity_iterator()#, verbose = 1)\n",
    "totalcap,allcaps,numcaps,nodes = Citer.collect(inputs[warmup_drop:,:],states[warmup_drop:,:])\n",
    "\n",
    "print(\"\\nMeasured \",numcaps,\" capacities above threshold.\\nTotal capacity = \",totalcap)\n"
   ]
  },
  {
   "cell_type": "code",
   "execution_count": 21,
   "metadata": {},
   "outputs": [
    {
     "data": {
      "image/png": "[encoded data removed]",
      "text/plain": [
       "<Figure size 432x288 with 1 Axes>"
      ]
     },
     "metadata": {},
     "output_type": "display_data"
    }
   ],
   "source": [
    "maxdel = 100\n",
    "maxdeg = 6\n",
    "V = cap2vec(allcaps,maxdel = maxdel, maxdeg = maxdeg)\n",
    "\n",
    "delrange = np.arange(1,maxdel+1)\n",
    "totcap = np.sum(V,axis=1)\n",
    "plt.figure()\n",
    "plt.semilogy(delrange,V[:,0],label='Linear')\n",
    "plt.plot(delrange,V[:,1],label='Qadratic')\n",
    "plt.plot(delrange,V[:,2],label='Qubic')\n",
    "\n",
    "plt.xlabel('Maximal delay')\n",
    "plt.ylabel('Total capacity')\n",
    "plt.legend()\n",
    "plt.show()"
   ]
  },
  {
   "cell_type": "code",
   "execution_count": 14,
   "metadata": {
    "scrolled": true
   },
   "outputs": [
    {
     "name": "stdout",
     "output_type": "stream",
     "text": [
      "Estimated rank of state covariance matrix =  100\n",
      "Total score for degree  1  =  97.44486040834413 (cumulative total =  97.44486040834413 )\n",
      "Total score for degree  2  =  0.0 (cumulative total =  97.44486040834413 )\n",
      "Total score for degree  3  =  0.0 (cumulative total =  97.44486040834413 )\n",
      "Total capacity=97.445 (97.44 percent)\n",
      "\n",
      "Measured  24020  capacities above threshold.\n",
      "Total capacity =  97.44486040834413\n"
     ]
    }
   ],
   "source": [
    "# Set reservoir params: nodes, input scaling, bias scaling, spectral radius\n",
    "nodes1 = 100\n",
    "IS1 = 0.000001\n",
    "BS1 = 0.0\n",
    "specrad1 = 0.9999\n",
    "\n",
    "# Number of time steps: you can use 1e5 for quick-and-dirty, but I used 1e6 in the paper\n",
    "steps1 = 1000000\n",
    "warmup_drop1 = 20*nodes1\n",
    "samples1 = steps1 + warmup_drop1\n",
    "\n",
    "# Important: capacity theory with Legendre polynomials assumes uniform random inputs in [-1,1]\n",
    "inputs1 = 2.0*np.random.rand(samples1,1)-1.0\n",
    "\n",
    "# in this example: use uniformly distributed, fully connected weight matrices\n",
    "I2R1 = ESN.CM_Initialise_Normal(1,nodes1,scale = IS1)\n",
    "B2R1 = ESN.CM_Initialise_Normal(1,nodes1,scale = BS1)\n",
    "R2R1 = ESN.CM_Initialise_Orthogonal(nodes1,nodes1)\n",
    "R2R1 = ESN.CM_scale_specrad(R2R1,specrad1)\n",
    "\n",
    "# Initialise and run reservoir on inputs\n",
    "Res1 = ESN.ESN(I2R = I2R1, B2R = B2R1, R2R = R2R1, nonlinearity = ESN.Lin)\n",
    "states1 = Res1.Batch(inputs1)\n",
    "\n",
    "Citer1=CAP.capacity_iterator()#, verbose = 1)\n",
    "rstates1 = states1[warmup_drop1:,:]\n",
    "totalcap1,allcaps1,numcaps1,nodes1 = Citer1.collect(inputs1[warmup_drop1:,:],rstates1)\n",
    "print(\"\\nMeasured \",numcaps1,\" capacities above threshold.\\nTotal capacity = \",totalcap1)"
   ]
  },
  {
   "cell_type": "code",
   "execution_count": 19,
   "metadata": {},
   "outputs": [
    {
     "data": {
      "image/png": "[encoded data removed]",
      "text/plain": [
       "<Figure size 432x288 with 1 Axes>"
      ]
     },
     "metadata": {},
     "output_type": "display_data"
    }
   ],
   "source": [
    "maxdel1 = 25000\n",
    "maxdeg1 = 6\n",
    "delrange1 = np.arange(1,maxdel1+1)\n",
    "plt.figure()\n",
    "V1 = cap2vec(allcaps1,maxdel = maxdel1, maxdeg = maxdeg1)\n",
    "totcap1 = np.sum(V1,axis=1)\n",
    "plt.semilogy(delrange1,V1[:,0],label='Linear')\n",
    "\n",
    "plt.xlabel('Maximal delay')\n",
    "plt.ylabel('Total capacity')\n",
    "plt.legend()\n",
    "plt.show()"
   ]
  },
  {
   "cell_type": "code",
   "execution_count": 16,
   "metadata": {},
   "outputs": [
    {
     "name": "stdout",
     "output_type": "stream",
     "text": [
      "Estimated rank of state covariance matrix =  100\n",
      "Total score for degree  1  =  103.14082936068945 (cumulative total =  103.14082936068945 )\n",
      "Total score for degree  2  =  0.0 (cumulative total =  103.14082936068945 )\n",
      "Total score for degree  3  =  0.0 (cumulative total =  103.14082936068945 )\n",
      "Total capacity=103.141 (103.14 percent)\n",
      "\n",
      "Measured  23761  capacities above threshold.\n",
      "Total capacity =  103.14082936068945\n"
     ]
    }
   ],
   "source": [
    "# Set reservoir params: nodes, input scaling, bias scaling, spectral radius\n",
    "nodes2 = 100\n",
    "IS2 = 0.000001\n",
    "BS2 = 0.0\n",
    "specrad2 = 0.9999\n",
    "\n",
    "# Number of time steps: you can use 1e5 for quick-and-dirty, but I used 1e6 in the paper\n",
    "steps2 = 1000000\n",
    "warmup_drop2 = 20*nodes2\n",
    "samples2 = steps2 + warmup_drop2\n",
    "\n",
    "# Important: capacity theory with Legendre polynomials assumes uniform random inputs in [-1,1]\n",
    "inputs2 = 2.0*np.random.rand(samples2,1)-1.0\n",
    "\n",
    "# in this example: use uniformly distributed, fully connected weight matrices\n",
    "I2R2 = ESN.CM_Initialise_Normal(1,nodes2,scale = IS2)\n",
    "B2R2 = ESN.CM_Initialise_Normal(1,nodes2,scale = BS2)\n",
    "R2R2 = ESN.CM_Initialise_Orthogonal(nodes2,nodes2)\n",
    "R2R2 = ESN.CM_scale_specrad(R2R2,specrad2)\n",
    "\n",
    "# Initialise and run reservoir on inputs\n",
    "Res2 = ESN.ESN(I2R = I2R2, B2R = B2R2, R2R = R2R2)\n",
    "states2 = Res2.Batch(inputs2)\n",
    "\n",
    "Citer2=CAP.capacity_iterator()#, verbose = 1)\n",
    "rstates2 = states2[warmup_drop2:,:]\n",
    "totalcap2,allcaps2,numcaps2,nodes2 = Citer.collect(inputs2[warmup_drop2:,:],rstates2)\n",
    "print(\"\\nMeasured \",numcaps2,\" capacities above threshold.\\nTotal capacity = \",totalcap2)"
   ]
  },
  {
   "cell_type": "code",
   "execution_count": 18,
   "metadata": {},
   "outputs": [
    {
     "data": {
      "image/png": "[encoded data removed]",
      "text/plain": [
       "<Figure size 432x288 with 1 Axes>"
      ]
     },
     "metadata": {},
     "output_type": "display_data"
    }
   ],
   "source": [
    "maxdel2 = 25000\n",
    "maxdeg2 = 6\n",
    "delrange2 = np.arange(1,maxdel2+1)\n",
    "plt.figure()\n",
    "V2 = cap2vec(allcaps2,maxdel = maxdel2, maxdeg = maxdeg2)\n",
    "totcap2 = np.sum(V2,axis=1)\n",
    "plt.semilogy(delrange2,V2[:,0],label='Linear')\n",
    "\n",
    "plt.xlabel('Maximal delay')\n",
    "plt.ylabel('Total capacity')\n",
    "plt.legend()\n",
    "plt.show()"
   ]
  },
  {
   "cell_type": "code",
   "execution_count": null,
   "metadata": {},
   "outputs": [],
   "source": []
  }
 ],
 "metadata": {
  "kernelspec": {
   "display_name": "Python 3",
   "language": "python",
   "name": "python3"
  },
  "language_info": {
   "codemirror_mode": {
    "name": "ipython",
    "version": 3
   },
   "file_extension": ".py",
   "mimetype": "text/x-python",
   "name": "python",
   "nbconvert_exporter": "python",
   "pygments_lexer": "ipython3",
   "version": "3.6.5"
  }
 },
 "nbformat": 4,
 "nbformat_minor": 2
}
